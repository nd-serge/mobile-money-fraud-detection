{
 "cells": [
  {
   "cell_type": "code",
   "execution_count": 1,
   "id": "1fb8bcef-b2e0-4b86-be5b-30d88a2a78eb",
   "metadata": {},
   "outputs": [
    {
     "name": "stdout",
     "output_type": "stream",
     "text": [
      "Python 3.10.18\n"
     ]
    }
   ],
   "source": [
    "!python -V"
   ]
  },
  {
   "cell_type": "markdown",
   "id": "07f8a101-1bf5-4ca8-a772-f8db8a7e01d5",
   "metadata": {},
   "source": [
    "### Imports"
   ]
  },
  {
   "cell_type": "code",
   "execution_count": 4,
   "id": "e8ff39cb-e026-4a1e-8b2d-9e1ed181cad3",
   "metadata": {},
   "outputs": [],
   "source": [
    "import mlflow\n",
    "import numpy as np\n",
    "import pandas as pd\n",
    "import warnings\n",
    "\n",
    "from imblearn.over_sampling import SMOTENC\n",
    "from imblearn.under_sampling import RandomUnderSampler\n",
    "from sklearn.pipeline import make_pipeline\n",
    "from category_encoders.one_hot import OneHotEncoder\n",
    "from sklearn.tree import DecisionTreeClassifier\n",
    "from sklearn.linear_model import LogisticRegression\n",
    "from sklearn.metrics import average_precision_score\n",
    "from sklearn.ensemble import RandomForestClassifier\n",
    "from sklearn.model_selection import train_test_split\n",
    "from imblearn.metrics import classification_report_imbalanced\n",
    "from sklearn.metrics import accuracy_score, recall_score, f1_score, precision_score\n",
    "\n",
    "warnings.filterwarnings('ignore')"
   ]
  },
  {
   "cell_type": "markdown",
   "id": "068eea8e-15c8-4568-a8bb-52473d24b84d",
   "metadata": {},
   "source": [
    "### Constants"
   ]
  },
  {
   "cell_type": "code",
   "execution_count": 5,
   "id": "68fd2a77-e85d-4b89-9854-0fcfde50d034",
   "metadata": {},
   "outputs": [],
   "source": [
    "DATA = \"data/PS_20174392719_1491204439457_log.csv\"\n",
    "EXPERIMENT_NAME = \"fraud detection\""
   ]
  },
  {
   "cell_type": "markdown",
   "id": "8bb66209-576a-4245-880d-b24b2401b901",
   "metadata": {},
   "source": [
    "### Setup"
   ]
  },
  {
   "cell_type": "code",
   "execution_count": 3,
   "id": "f302c2e3-c601-4b6c-8ca5-fcdd90393e76",
   "metadata": {},
   "outputs": [
    {
     "data": {
      "text/plain": [
       "<Experiment: artifact_location='mlflow-artifacts:/102175048111124688', creation_time=1753969702375, experiment_id='102175048111124688', last_update_time=1753969702375, lifecycle_stage='active', name='fraud detection', tags={}>"
      ]
     },
     "execution_count": 3,
     "metadata": {},
     "output_type": "execute_result"
    }
   ],
   "source": [
    "mlflow.set_tracking_uri(\"http://localhost:5000\")\n",
    "mlflow.set_experiment(EXPERIMENT_NAME)"
   ]
  },
  {
   "cell_type": "markdown",
   "id": "1ff51fd2-9b7e-48ed-81e1-bb67fd380d0e",
   "metadata": {},
   "source": [
    "### Read data"
   ]
  },
  {
   "cell_type": "markdown",
   "id": "bb23c2ca-aa92-42d3-b7ff-e299e86b8476",
   "metadata": {},
   "source": [
    "#### Data wrangle"
   ]
  },
  {
   "cell_type": "code",
   "execution_count": 6,
   "id": "a0ca3021-5191-49ba-b9ed-92c3c767f42f",
   "metadata": {},
   "outputs": [],
   "source": [
    "def wrangle(filepath):\n",
    "    df = pd.read_csv(filepath)\n",
    "\n",
    "    # remove leak features\n",
    "    cols = []\n",
    "    cols.append(\"newbalanceOrig\")\n",
    "    cols.append(\"newbalanceDest\")\n",
    "\n",
    "    #dectection system result\n",
    "    cols.append(\"isFlaggedFraud\")\n",
    "\n",
    "    #Select only transaction's type where there is a fraud\n",
    "    trans_types = [\"CASH_OUT\", \"TRANSFER\"]\n",
    "    df = df[df[\"type\"].isin(trans_types)]\n",
    "    \n",
    "    #keep only type of customers M or C\n",
    "    df[\"nameOrig\"] = df[\"nameOrig\"].str[0]\n",
    "    df[\"nameDest\"] = df[\"nameDest\"].str[0]\n",
    "\n",
    "    # Transaction's hour\n",
    "    df[\"time\"] = df[\"step\"].apply(lambda step: (step - 1) % 24 + 1)\n",
    "    cols.append(\"step\")\n",
    "\n",
    "    #filter amount between 10th and 90th percentile\n",
    "    q10 = df.amount.quantile(0.1)\n",
    "    q90 = df.amount.quantile(0.9)\n",
    "    df = df[df[\"amount\"].between(q10, q90)]\n",
    "\n",
    "    #Filter oldbalanceOrg\n",
    "    df = df[df.oldbalanceOrg > 0]\n",
    "    q10 = df.oldbalanceOrg.quantile(0.1)\n",
    "    q90 = df.oldbalanceOrg.quantile(0.9)\n",
    "    df = df[df[\"oldbalanceOrg\"].between(q10, q90)]\n",
    "\n",
    "    #Filter oldbalanceDest\n",
    "    q10 = df.oldbalanceDest.quantile(0.1)\n",
    "    q90 = df.oldbalanceDest.quantile(0.9)\n",
    "    df = df[df[\"oldbalanceDest\"].between(q10, q90)]\n",
    "\n",
    "    #Drop features with low dimensionality\n",
    "    cols.append(\"nameOrig\")\n",
    "    cols.append(\"nameDest\")\n",
    "    \n",
    "    # drop columns\n",
    "    df.drop(columns=cols, inplace=True)\n",
    "    return df"
   ]
  },
  {
   "cell_type": "code",
   "execution_count": 7,
   "id": "bb69162d-5017-4d75-96e9-6c60bb21fee1",
   "metadata": {},
   "outputs": [
    {
     "name": "stdout",
     "output_type": "stream",
     "text": [
      "wrangled df (849078, 6)\n"
     ]
    }
   ],
   "source": [
    "df = wrangle(DATA)\n",
    "print(\"wrangled df\", df.shape)"
   ]
  },
  {
   "cell_type": "code",
   "execution_count": 19,
   "id": "a39848ba-7486-49f1-8d59-278e46940764",
   "metadata": {},
   "outputs": [],
   "source": [
    "df.to_csv(\"data/fraud-detection-mobile-money(short).csv\", index=False)"
   ]
  },
  {
   "cell_type": "markdown",
   "id": "e5ece5c3-8d52-4487-8565-549bff163237",
   "metadata": {},
   "source": [
    "#### Explore data"
   ]
  },
  {
   "cell_type": "code",
   "execution_count": 8,
   "id": "b8128af1-2589-4f6c-bfb3-daeae13836ba",
   "metadata": {},
   "outputs": [
    {
     "name": "stdout",
     "output_type": "stream",
     "text": [
      "<class 'pandas.core.frame.DataFrame'>\n",
      "Index: 849078 entries, 15 to 6362611\n",
      "Data columns (total 6 columns):\n",
      " #   Column          Non-Null Count   Dtype  \n",
      "---  ------          --------------   -----  \n",
      " 0   type            849078 non-null  object \n",
      " 1   amount          849078 non-null  float64\n",
      " 2   oldbalanceOrg   849078 non-null  float64\n",
      " 3   oldbalanceDest  849078 non-null  float64\n",
      " 4   isFraud         849078 non-null  int64  \n",
      " 5   time            849078 non-null  int64  \n",
      "dtypes: float64(3), int64(2), object(1)\n",
      "memory usage: 45.3+ MB\n"
     ]
    },
    {
     "data": {
      "text/html": [
       "<div>\n",
       "<style scoped>\n",
       "    .dataframe tbody tr th:only-of-type {\n",
       "        vertical-align: middle;\n",
       "    }\n",
       "\n",
       "    .dataframe tbody tr th {\n",
       "        vertical-align: top;\n",
       "    }\n",
       "\n",
       "    .dataframe thead th {\n",
       "        text-align: right;\n",
       "    }\n",
       "</style>\n",
       "<table border=\"1\" class=\"dataframe\">\n",
       "  <thead>\n",
       "    <tr style=\"text-align: right;\">\n",
       "      <th></th>\n",
       "      <th>type</th>\n",
       "      <th>amount</th>\n",
       "      <th>oldbalanceOrg</th>\n",
       "      <th>oldbalanceDest</th>\n",
       "      <th>isFraud</th>\n",
       "      <th>time</th>\n",
       "    </tr>\n",
       "  </thead>\n",
       "  <tbody>\n",
       "    <tr>\n",
       "      <th>15</th>\n",
       "      <td>CASH_OUT</td>\n",
       "      <td>229133.94</td>\n",
       "      <td>15325.00</td>\n",
       "      <td>5083.0</td>\n",
       "      <td>0</td>\n",
       "      <td>1</td>\n",
       "    </tr>\n",
       "    <tr>\n",
       "      <th>24</th>\n",
       "      <td>TRANSFER</td>\n",
       "      <td>311685.89</td>\n",
       "      <td>10835.00</td>\n",
       "      <td>6267.0</td>\n",
       "      <td>0</td>\n",
       "      <td>1</td>\n",
       "    </tr>\n",
       "    <tr>\n",
       "      <th>42</th>\n",
       "      <td>CASH_OUT</td>\n",
       "      <td>110414.71</td>\n",
       "      <td>26845.41</td>\n",
       "      <td>288800.0</td>\n",
       "      <td>0</td>\n",
       "      <td>1</td>\n",
       "    </tr>\n",
       "    <tr>\n",
       "      <th>47</th>\n",
       "      <td>CASH_OUT</td>\n",
       "      <td>56953.90</td>\n",
       "      <td>1942.02</td>\n",
       "      <td>70253.0</td>\n",
       "      <td>0</td>\n",
       "      <td>1</td>\n",
       "    </tr>\n",
       "    <tr>\n",
       "      <th>58</th>\n",
       "      <td>TRANSFER</td>\n",
       "      <td>62610.80</td>\n",
       "      <td>79114.00</td>\n",
       "      <td>517.0</td>\n",
       "      <td>0</td>\n",
       "      <td>1</td>\n",
       "    </tr>\n",
       "  </tbody>\n",
       "</table>\n",
       "</div>"
      ],
      "text/plain": [
       "        type     amount  oldbalanceOrg  oldbalanceDest  isFraud  time\n",
       "15  CASH_OUT  229133.94       15325.00          5083.0        0     1\n",
       "24  TRANSFER  311685.89       10835.00          6267.0        0     1\n",
       "42  CASH_OUT  110414.71       26845.41        288800.0        0     1\n",
       "47  CASH_OUT   56953.90        1942.02         70253.0        0     1\n",
       "58  TRANSFER   62610.80       79114.00           517.0        0     1"
      ]
     },
     "execution_count": 8,
     "metadata": {},
     "output_type": "execute_result"
    }
   ],
   "source": [
    "df.info()\n",
    "df.head()"
   ]
  },
  {
   "cell_type": "code",
   "execution_count": 8,
   "id": "0e0aff0e-0966-4e8a-bdcf-84f61222dab9",
   "metadata": {},
   "outputs": [
    {
     "data": {
      "text/plain": [
       "isFraud\n",
       "0    0.997662\n",
       "1    0.002338\n",
       "Name: proportion, dtype: float64"
      ]
     },
     "execution_count": 8,
     "metadata": {},
     "output_type": "execute_result"
    }
   ],
   "source": [
    "# Imbalanced Data\n",
    "df.isFraud.value_counts(normalize=True)"
   ]
  },
  {
   "cell_type": "markdown",
   "id": "e0001ab9-4070-4c6d-b622-1ac79c3781cb",
   "metadata": {},
   "source": [
    "### Build model"
   ]
  },
  {
   "cell_type": "code",
   "execution_count": 10,
   "id": "c62d8b1f-635c-4424-8642-28577913a32f",
   "metadata": {},
   "outputs": [],
   "source": [
    "target = \"isFraud\"\n",
    "X = df.drop(columns=[target])\n",
    "y = df[target]"
   ]
  },
  {
   "cell_type": "code",
   "execution_count": 14,
   "id": "716ae560-890b-4eee-a89f-a87fc85ec29a",
   "metadata": {},
   "outputs": [],
   "source": []
  },
  {
   "cell_type": "code",
   "execution_count": 10,
   "id": "97760bce-0682-4673-afb8-aa5a2cf2865b",
   "metadata": {},
   "outputs": [],
   "source": [
    "# Split data\n",
    "X_train,X_test,y_train,y_test = train_test_split(X, y, test_size=0.2, random_state=2000)\n",
    "\n",
    "# OverSampling Data using SMOTENC method\n",
    "X_samp, y_samp = SMOTENC(categorical_features=[0], random_state=42).fit_resample(X_train, y_train)"
   ]
  },
  {
   "cell_type": "markdown",
   "id": "0a0ccf14-405b-48dd-9ea1-47effd83f963",
   "metadata": {},
   "source": [
    "#### Baseline model"
   ]
  },
  {
   "cell_type": "code",
   "execution_count": 11,
   "id": "60f6d687-8186-4326-aa48-d0dd110af521",
   "metadata": {},
   "outputs": [
    {
     "name": "stdout",
     "output_type": "stream",
     "text": [
      "Baseline model accuracy 0.9976842514375897\n"
     ]
    }
   ],
   "source": [
    "print(\"Baseline model accuracy\", y_train.value_counts(normalize=True).max())"
   ]
  },
  {
   "cell_type": "markdown",
   "id": "c2755e66-a6ed-4cd2-970f-0f959cb5c012",
   "metadata": {},
   "source": [
    "#### Iterate"
   ]
  },
  {
   "cell_type": "code",
   "execution_count": 31,
   "id": "635ce179-9945-4235-be27-09bcb852f51e",
   "metadata": {},
   "outputs": [],
   "source": [
    "best_f1 = 0.92\n",
    "C = np.linspace(0.5, 5, 10)\n",
    "raw_data = X_samp.copy()\n",
    "raw_data[\"target\"] = y_samp\n",
    "solvers = [\"sag\", \"saga\", \"newton-cholesky\"]\n",
    "\n",
    "dataset = mlflow.data.from_pandas(raw_data, source=\"https://www.kaggle.com/datasets/ealaxi/paysim1\", name=\"Fraud_detection_training_data\")"
   ]
  },
  {
   "cell_type": "code",
   "execution_count": null,
   "id": "7af63928-8a76-4fd2-b7de-c4c6335d1b2b",
   "metadata": {},
   "outputs": [
    {
     "name": "stdout",
     "output_type": "stream",
     "text": [
      "Training is finished\n",
      "{'accuracy_training': 0.92, 'recall_training': 0.99, 'f1_score_training': 0.93, 'precision_training': 0.88}\n",
      "{'avg_precision_test': np.float64(1.0), 'avg_recall_test': np.float64(0.86), 'avg_f1_score_test': np.float64(0.92)}\n",
      "metrics and parameters have been logged\n",
      "The best model has been saved!\n",
      "🏃 View run rare-sloth-871 at: http://localhost:5000/#/experiments/102175048111124688/runs/3171fd72e5004854a40c2abc52684ff6\n",
      "🧪 View experiment at: http://localhost:5000/#/experiments/102175048111124688\n",
      "Training is finished\n",
      "{'accuracy_training': 0.92, 'recall_training': 0.99, 'f1_score_training': 0.93, 'precision_training': 0.88}\n",
      "{'avg_precision_test': np.float64(1.0), 'avg_recall_test': np.float64(0.86), 'avg_f1_score_test': np.float64(0.92)}\n",
      "metrics and parameters have been logged\n"
     ]
    },
    {
     "name": "stderr",
     "output_type": "stream",
     "text": [
      "Exception ignored in: <bound method IPythonKernel._clean_thread_parent_frames of <ipykernel.ipkernel.IPythonKernel object at 0x72a62bd24520>>\n",
      "Traceback (most recent call last):\n",
      "  File \"/home/codespace/anaconda3/envs/fraud/lib/python3.10/site-packages/ipykernel/ipkernel.py\", line 781, in _clean_thread_parent_frames\n",
      "    def _clean_thread_parent_frames(\n",
      "KeyboardInterrupt: \n"
     ]
    },
    {
     "name": "stdout",
     "output_type": "stream",
     "text": [
      "The best model has been saved!\n",
      "🏃 View run delightful-crane-583 at: http://localhost:5000/#/experiments/102175048111124688/runs/bf02e01c3e8b4e1a902115975c8f6cb9\n",
      "🧪 View experiment at: http://localhost:5000/#/experiments/102175048111124688\n"
     ]
    },
    {
     "name": "stderr",
     "output_type": "stream",
     "text": [
      "/home/codespace/anaconda3/envs/fraud/lib/python3.10/site-packages/sklearn/linear_model/_glm/_newton_solver.py:576: LinAlgWarning: The inner solver of NewtonCholeskySolver stumbled upon a singular or very ill-conditioned Hessian matrix at iteration 1. It will now resort to lbfgs instead.\n",
      "Further options are to use another solver or to avoid such situation in the first place. Possible remedies are removing collinear features of X or increasing the penalization strengths.\n",
      "The original Linear Algebra message was:\n",
      "Ill-conditioned matrix (rcond=7.68011e-18): result may not be accurate.\n",
      "  warnings.warn(\n",
      "/home/codespace/anaconda3/envs/fraud/lib/python3.10/site-packages/sklearn/linear_model/_glm/_newton_solver.py:195: ConvergenceWarning: lbfgs failed to converge (status=1):\n",
      "STOP: TOTAL NO. OF ITERATIONS REACHED LIMIT.\n",
      "\n",
      "Increase the number of iterations (max_iter) or scale the data as shown in:\n",
      "    https://scikit-learn.org/stable/modules/preprocessing.html\n",
      "  self.iteration += _check_optimize_result(\"lbfgs\", opt_res)\n"
     ]
    },
    {
     "name": "stdout",
     "output_type": "stream",
     "text": [
      "Training is finished\n",
      "{'accuracy_training': 0.9, 'recall_training': 0.92, 'f1_score_training': 0.9, 'precision_training': 0.89}\n",
      "{'avg_precision_test': np.float64(1.0), 'avg_recall_test': np.float64(0.88), 'avg_f1_score_test': np.float64(0.94)}\n",
      "metrics and parameters have been logged\n",
      "🏃 View run likeable-stag-460 at: http://localhost:5000/#/experiments/102175048111124688/runs/eea8b7ad6461490fb01de2ba3bf2cd29\n",
      "🧪 View experiment at: http://localhost:5000/#/experiments/102175048111124688\n",
      "Training is finished\n",
      "{'accuracy_training': 0.92, 'recall_training': 0.99, 'f1_score_training': 0.93, 'precision_training': 0.88}\n",
      "{'avg_precision_test': np.float64(1.0), 'avg_recall_test': np.float64(0.86), 'avg_f1_score_test': np.float64(0.92)}\n",
      "metrics and parameters have been logged\n"
     ]
    },
    {
     "name": "stderr",
     "output_type": "stream",
     "text": [
      "Exception ignored in: <bound method IPythonKernel._clean_thread_parent_frames of <ipykernel.ipkernel.IPythonKernel object at 0x72a62bd24520>>\n",
      "Traceback (most recent call last):\n",
      "  File \"/home/codespace/anaconda3/envs/fraud/lib/python3.10/site-packages/ipykernel/ipkernel.py\", line 781, in _clean_thread_parent_frames\n",
      "    def _clean_thread_parent_frames(\n",
      "KeyboardInterrupt: \n"
     ]
    },
    {
     "name": "stdout",
     "output_type": "stream",
     "text": [
      "The best model has been saved!\n",
      "🏃 View run serious-swan-266 at: http://localhost:5000/#/experiments/102175048111124688/runs/ddb4092ccf764a70a48be2ed60e231fb\n",
      "🧪 View experiment at: http://localhost:5000/#/experiments/102175048111124688\n",
      "Training is finished\n",
      "{'accuracy_training': 0.92, 'recall_training': 0.99, 'f1_score_training': 0.93, 'precision_training': 0.88}\n",
      "{'avg_precision_test': np.float64(1.0), 'avg_recall_test': np.float64(0.86), 'avg_f1_score_test': np.float64(0.92)}\n",
      "metrics and parameters have been logged\n",
      "The best model has been saved!\n",
      "🏃 View run secretive-hog-885 at: http://localhost:5000/#/experiments/102175048111124688/runs/69fa1f6400344ffba6773986917e36b4\n",
      "🧪 View experiment at: http://localhost:5000/#/experiments/102175048111124688\n"
     ]
    },
    {
     "name": "stderr",
     "output_type": "stream",
     "text": [
      "/home/codespace/anaconda3/envs/fraud/lib/python3.10/site-packages/sklearn/linear_model/_glm/_newton_solver.py:576: LinAlgWarning: The inner solver of NewtonCholeskySolver stumbled upon a singular or very ill-conditioned Hessian matrix at iteration 1. It will now resort to lbfgs instead.\n",
      "Further options are to use another solver or to avoid such situation in the first place. Possible remedies are removing collinear features of X or increasing the penalization strengths.\n",
      "The original Linear Algebra message was:\n",
      "Ill-conditioned matrix (rcond=3.84017e-18): result may not be accurate.\n",
      "  warnings.warn(\n",
      "/home/codespace/anaconda3/envs/fraud/lib/python3.10/site-packages/sklearn/linear_model/_glm/_newton_solver.py:195: ConvergenceWarning: lbfgs failed to converge (status=1):\n",
      "STOP: TOTAL NO. OF ITERATIONS REACHED LIMIT.\n",
      "\n",
      "Increase the number of iterations (max_iter) or scale the data as shown in:\n",
      "    https://scikit-learn.org/stable/modules/preprocessing.html\n",
      "  self.iteration += _check_optimize_result(\"lbfgs\", opt_res)\n"
     ]
    },
    {
     "name": "stdout",
     "output_type": "stream",
     "text": [
      "Training is finished\n",
      "{'accuracy_training': 0.9, 'recall_training': 0.92, 'f1_score_training': 0.9, 'precision_training': 0.89}\n",
      "{'avg_precision_test': np.float64(1.0), 'avg_recall_test': np.float64(0.88), 'avg_f1_score_test': np.float64(0.94)}\n",
      "metrics and parameters have been logged\n",
      "🏃 View run stylish-mule-650 at: http://localhost:5000/#/experiments/102175048111124688/runs/9f3fadb2ab4f4b97b99c67d3c05a860e\n",
      "🧪 View experiment at: http://localhost:5000/#/experiments/102175048111124688\n",
      "Training is finished\n",
      "{'accuracy_training': 0.92, 'recall_training': 0.99, 'f1_score_training': 0.93, 'precision_training': 0.88}\n",
      "{'avg_precision_test': np.float64(1.0), 'avg_recall_test': np.float64(0.86), 'avg_f1_score_test': np.float64(0.92)}\n",
      "metrics and parameters have been logged\n",
      "The best model has been saved!\n",
      "🏃 View run spiffy-croc-99 at: http://localhost:5000/#/experiments/102175048111124688/runs/8ea6e336ea2b40c29a3330423a80002c\n",
      "🧪 View experiment at: http://localhost:5000/#/experiments/102175048111124688\n",
      "Training is finished\n",
      "{'accuracy_training': 0.92, 'recall_training': 0.99, 'f1_score_training': 0.93, 'precision_training': 0.88}\n",
      "{'avg_precision_test': np.float64(1.0), 'avg_recall_test': np.float64(0.86), 'avg_f1_score_test': np.float64(0.92)}\n",
      "metrics and parameters have been logged\n",
      "The best model has been saved!\n",
      "🏃 View run sedate-dog-872 at: http://localhost:5000/#/experiments/102175048111124688/runs/cc4e2d7bd2cc4f358db4a469d41928af\n",
      "🧪 View experiment at: http://localhost:5000/#/experiments/102175048111124688\n"
     ]
    },
    {
     "name": "stderr",
     "output_type": "stream",
     "text": [
      "/home/codespace/anaconda3/envs/fraud/lib/python3.10/site-packages/sklearn/linear_model/_glm/_newton_solver.py:576: LinAlgWarning: The inner solver of NewtonCholeskySolver stumbled upon a singular or very ill-conditioned Hessian matrix at iteration 1. It will now resort to lbfgs instead.\n",
      "Further options are to use another solver or to avoid such situation in the first place. Possible remedies are removing collinear features of X or increasing the penalization strengths.\n",
      "The original Linear Algebra message was:\n",
      "Ill-conditioned matrix (rcond=2.56013e-18): result may not be accurate.\n",
      "  warnings.warn(\n",
      "/home/codespace/anaconda3/envs/fraud/lib/python3.10/site-packages/sklearn/linear_model/_glm/_newton_solver.py:195: ConvergenceWarning: lbfgs failed to converge (status=1):\n",
      "STOP: TOTAL NO. OF ITERATIONS REACHED LIMIT.\n",
      "\n",
      "Increase the number of iterations (max_iter) or scale the data as shown in:\n",
      "    https://scikit-learn.org/stable/modules/preprocessing.html\n",
      "  self.iteration += _check_optimize_result(\"lbfgs\", opt_res)\n"
     ]
    },
    {
     "name": "stdout",
     "output_type": "stream",
     "text": [
      "Training is finished\n",
      "{'accuracy_training': 0.9, 'recall_training': 0.92, 'f1_score_training': 0.9, 'precision_training': 0.89}\n",
      "{'avg_precision_test': np.float64(1.0), 'avg_recall_test': np.float64(0.88), 'avg_f1_score_test': np.float64(0.94)}\n",
      "metrics and parameters have been logged\n",
      "🏃 View run bright-cat-795 at: http://localhost:5000/#/experiments/102175048111124688/runs/3cf725ea69ff40b8864aa87531f3e390\n",
      "🧪 View experiment at: http://localhost:5000/#/experiments/102175048111124688\n",
      "Training is finished\n",
      "{'accuracy_training': 0.92, 'recall_training': 0.99, 'f1_score_training': 0.93, 'precision_training': 0.88}\n",
      "{'avg_precision_test': np.float64(1.0), 'avg_recall_test': np.float64(0.86), 'avg_f1_score_test': np.float64(0.92)}\n",
      "metrics and parameters have been logged\n",
      "The best model has been saved!\n",
      "🏃 View run silent-cub-20 at: http://localhost:5000/#/experiments/102175048111124688/runs/13aea85d0b6b4ed2a3f5fb2752188097\n",
      "🧪 View experiment at: http://localhost:5000/#/experiments/102175048111124688\n",
      "Training is finished\n",
      "{'accuracy_training': 0.92, 'recall_training': 0.99, 'f1_score_training': 0.93, 'precision_training': 0.88}\n",
      "{'avg_precision_test': np.float64(1.0), 'avg_recall_test': np.float64(0.86), 'avg_f1_score_test': np.float64(0.92)}\n",
      "metrics and parameters have been logged\n",
      "The best model has been saved!\n",
      "🏃 View run invincible-worm-222 at: http://localhost:5000/#/experiments/102175048111124688/runs/b2a818cb9def43d6bbf8cb502aa74fe7\n",
      "🧪 View experiment at: http://localhost:5000/#/experiments/102175048111124688\n"
     ]
    },
    {
     "name": "stderr",
     "output_type": "stream",
     "text": [
      "/home/codespace/anaconda3/envs/fraud/lib/python3.10/site-packages/sklearn/linear_model/_glm/_newton_solver.py:576: LinAlgWarning: The inner solver of NewtonCholeskySolver stumbled upon a singular or very ill-conditioned Hessian matrix at iteration 1. It will now resort to lbfgs instead.\n",
      "Further options are to use another solver or to avoid such situation in the first place. Possible remedies are removing collinear features of X or increasing the penalization strengths.\n",
      "The original Linear Algebra message was:\n",
      "Ill-conditioned matrix (rcond=1.92011e-18): result may not be accurate.\n",
      "  warnings.warn(\n",
      "/home/codespace/anaconda3/envs/fraud/lib/python3.10/site-packages/sklearn/linear_model/_glm/_newton_solver.py:195: ConvergenceWarning: lbfgs failed to converge (status=1):\n",
      "STOP: TOTAL NO. OF ITERATIONS REACHED LIMIT.\n",
      "\n",
      "Increase the number of iterations (max_iter) or scale the data as shown in:\n",
      "    https://scikit-learn.org/stable/modules/preprocessing.html\n",
      "  self.iteration += _check_optimize_result(\"lbfgs\", opt_res)\n"
     ]
    },
    {
     "name": "stdout",
     "output_type": "stream",
     "text": [
      "Training is finished\n",
      "{'accuracy_training': 0.9, 'recall_training': 0.92, 'f1_score_training': 0.9, 'precision_training': 0.89}\n",
      "{'avg_precision_test': np.float64(1.0), 'avg_recall_test': np.float64(0.88), 'avg_f1_score_test': np.float64(0.94)}\n",
      "metrics and parameters have been logged\n",
      "🏃 View run honorable-swan-68 at: http://localhost:5000/#/experiments/102175048111124688/runs/fdd8f7ada7d640cbbc05d186f0ac9d18\n",
      "🧪 View experiment at: http://localhost:5000/#/experiments/102175048111124688\n",
      "Training is finished\n",
      "{'accuracy_training': 0.92, 'recall_training': 0.99, 'f1_score_training': 0.93, 'precision_training': 0.88}\n",
      "{'avg_precision_test': np.float64(1.0), 'avg_recall_test': np.float64(0.86), 'avg_f1_score_test': np.float64(0.92)}\n",
      "metrics and parameters have been logged\n",
      "The best model has been saved!\n",
      "🏃 View run nimble-whale-422 at: http://localhost:5000/#/experiments/102175048111124688/runs/12376945345f4facaf02d9c8b8a4db40\n",
      "🧪 View experiment at: http://localhost:5000/#/experiments/102175048111124688\n",
      "Training is finished\n",
      "{'accuracy_training': 0.92, 'recall_training': 0.99, 'f1_score_training': 0.93, 'precision_training': 0.88}\n",
      "{'avg_precision_test': np.float64(1.0), 'avg_recall_test': np.float64(0.86), 'avg_f1_score_test': np.float64(0.92)}\n",
      "metrics and parameters have been logged\n",
      "The best model has been saved!\n",
      "🏃 View run traveling-bass-456 at: http://localhost:5000/#/experiments/102175048111124688/runs/66e012d098fb4a71bc6a32d8d441db69\n",
      "🧪 View experiment at: http://localhost:5000/#/experiments/102175048111124688\n"
     ]
    },
    {
     "name": "stderr",
     "output_type": "stream",
     "text": [
      "/home/codespace/anaconda3/envs/fraud/lib/python3.10/site-packages/sklearn/linear_model/_glm/_newton_solver.py:576: LinAlgWarning: The inner solver of NewtonCholeskySolver stumbled upon a singular or very ill-conditioned Hessian matrix at iteration 1. It will now resort to lbfgs instead.\n",
      "Further options are to use another solver or to avoid such situation in the first place. Possible remedies are removing collinear features of X or increasing the penalization strengths.\n",
      "The original Linear Algebra message was:\n",
      "Ill-conditioned matrix (rcond=1.53609e-18): result may not be accurate.\n",
      "  warnings.warn(\n",
      "/home/codespace/anaconda3/envs/fraud/lib/python3.10/site-packages/sklearn/linear_model/_glm/_newton_solver.py:195: ConvergenceWarning: lbfgs failed to converge (status=1):\n",
      "STOP: TOTAL NO. OF ITERATIONS REACHED LIMIT.\n",
      "\n",
      "Increase the number of iterations (max_iter) or scale the data as shown in:\n",
      "    https://scikit-learn.org/stable/modules/preprocessing.html\n",
      "  self.iteration += _check_optimize_result(\"lbfgs\", opt_res)\n"
     ]
    },
    {
     "name": "stdout",
     "output_type": "stream",
     "text": [
      "Training is finished\n",
      "{'accuracy_training': 0.9, 'recall_training': 0.92, 'f1_score_training': 0.9, 'precision_training': 0.89}\n",
      "{'avg_precision_test': np.float64(1.0), 'avg_recall_test': np.float64(0.88), 'avg_f1_score_test': np.float64(0.94)}\n",
      "metrics and parameters have been logged\n",
      "🏃 View run skittish-sloth-603 at: http://localhost:5000/#/experiments/102175048111124688/runs/dc5ccc24a59f41379af14ffb4d57de46\n",
      "🧪 View experiment at: http://localhost:5000/#/experiments/102175048111124688\n",
      "Training is finished\n",
      "{'accuracy_training': 0.92, 'recall_training': 0.99, 'f1_score_training': 0.93, 'precision_training': 0.88}\n",
      "{'avg_precision_test': np.float64(1.0), 'avg_recall_test': np.float64(0.86), 'avg_f1_score_test': np.float64(0.92)}\n",
      "metrics and parameters have been logged\n",
      "The best model has been saved!\n",
      "🏃 View run traveling-duck-444 at: http://localhost:5000/#/experiments/102175048111124688/runs/d02ebe0eeecc44d694cfc2a32b6e956e\n",
      "🧪 View experiment at: http://localhost:5000/#/experiments/102175048111124688\n",
      "Training is finished\n",
      "{'accuracy_training': 0.92, 'recall_training': 0.99, 'f1_score_training': 0.93, 'precision_training': 0.88}\n",
      "{'avg_precision_test': np.float64(1.0), 'avg_recall_test': np.float64(0.86), 'avg_f1_score_test': np.float64(0.92)}\n",
      "metrics and parameters have been logged\n",
      "The best model has been saved!\n",
      "🏃 View run receptive-colt-165 at: http://localhost:5000/#/experiments/102175048111124688/runs/05670826fc9e407f8a5a8a02a9fc68d3\n",
      "🧪 View experiment at: http://localhost:5000/#/experiments/102175048111124688\n"
     ]
    },
    {
     "name": "stderr",
     "output_type": "stream",
     "text": [
      "/home/codespace/anaconda3/envs/fraud/lib/python3.10/site-packages/sklearn/linear_model/_glm/_newton_solver.py:576: LinAlgWarning: The inner solver of NewtonCholeskySolver stumbled upon a singular or very ill-conditioned Hessian matrix at iteration 1. It will now resort to lbfgs instead.\n",
      "Further options are to use another solver or to avoid such situation in the first place. Possible remedies are removing collinear features of X or increasing the penalization strengths.\n",
      "The original Linear Algebra message was:\n",
      "Ill-conditioned matrix (rcond=1.28008e-18): result may not be accurate.\n",
      "  warnings.warn(\n",
      "/home/codespace/anaconda3/envs/fraud/lib/python3.10/site-packages/sklearn/linear_model/_glm/_newton_solver.py:195: ConvergenceWarning: lbfgs failed to converge (status=1):\n",
      "STOP: TOTAL NO. OF ITERATIONS REACHED LIMIT.\n",
      "\n",
      "Increase the number of iterations (max_iter) or scale the data as shown in:\n",
      "    https://scikit-learn.org/stable/modules/preprocessing.html\n",
      "  self.iteration += _check_optimize_result(\"lbfgs\", opt_res)\n"
     ]
    },
    {
     "name": "stdout",
     "output_type": "stream",
     "text": [
      "Training is finished\n",
      "{'accuracy_training': 0.9, 'recall_training': 0.92, 'f1_score_training': 0.9, 'precision_training': 0.89}\n",
      "{'avg_precision_test': np.float64(1.0), 'avg_recall_test': np.float64(0.88), 'avg_f1_score_test': np.float64(0.94)}\n",
      "metrics and parameters have been logged\n",
      "🏃 View run amusing-snipe-234 at: http://localhost:5000/#/experiments/102175048111124688/runs/fb27874c75bf40d082ae7c882735aa59\n",
      "🧪 View experiment at: http://localhost:5000/#/experiments/102175048111124688\n",
      "Training is finished\n",
      "{'accuracy_training': 0.92, 'recall_training': 0.99, 'f1_score_training': 0.93, 'precision_training': 0.88}\n",
      "{'avg_precision_test': np.float64(1.0), 'avg_recall_test': np.float64(0.86), 'avg_f1_score_test': np.float64(0.92)}\n",
      "metrics and parameters have been logged\n",
      "The best model has been saved!\n",
      "🏃 View run polite-yak-280 at: http://localhost:5000/#/experiments/102175048111124688/runs/068ec67b396541f4b4b6795a1df6695c\n",
      "🧪 View experiment at: http://localhost:5000/#/experiments/102175048111124688\n",
      "Training is finished\n",
      "{'accuracy_training': 0.92, 'recall_training': 0.99, 'f1_score_training': 0.93, 'precision_training': 0.88}\n",
      "{'avg_precision_test': np.float64(1.0), 'avg_recall_test': np.float64(0.86), 'avg_f1_score_test': np.float64(0.92)}\n",
      "metrics and parameters have been logged\n",
      "The best model has been saved!\n",
      "🏃 View run flawless-shoat-997 at: http://localhost:5000/#/experiments/102175048111124688/runs/6684143f767245c1a351e16cfa85d1d8\n",
      "🧪 View experiment at: http://localhost:5000/#/experiments/102175048111124688\n"
     ]
    },
    {
     "name": "stderr",
     "output_type": "stream",
     "text": [
      "/home/codespace/anaconda3/envs/fraud/lib/python3.10/site-packages/sklearn/linear_model/_glm/_newton_solver.py:576: LinAlgWarning: The inner solver of NewtonCholeskySolver stumbled upon a singular or very ill-conditioned Hessian matrix at iteration 1. It will now resort to lbfgs instead.\n",
      "Further options are to use another solver or to avoid such situation in the first place. Possible remedies are removing collinear features of X or increasing the penalization strengths.\n",
      "The original Linear Algebra message was:\n",
      "Ill-conditioned matrix (rcond=1.09721e-18): result may not be accurate.\n",
      "  warnings.warn(\n",
      "/home/codespace/anaconda3/envs/fraud/lib/python3.10/site-packages/sklearn/linear_model/_glm/_newton_solver.py:195: ConvergenceWarning: lbfgs failed to converge (status=1):\n",
      "STOP: TOTAL NO. OF ITERATIONS REACHED LIMIT.\n",
      "\n",
      "Increase the number of iterations (max_iter) or scale the data as shown in:\n",
      "    https://scikit-learn.org/stable/modules/preprocessing.html\n",
      "  self.iteration += _check_optimize_result(\"lbfgs\", opt_res)\n"
     ]
    },
    {
     "name": "stdout",
     "output_type": "stream",
     "text": [
      "Training is finished\n",
      "{'accuracy_training': 0.9, 'recall_training': 0.92, 'f1_score_training': 0.9, 'precision_training': 0.89}\n",
      "{'avg_precision_test': np.float64(1.0), 'avg_recall_test': np.float64(0.88), 'avg_f1_score_test': np.float64(0.94)}\n",
      "metrics and parameters have been logged\n",
      "🏃 View run burly-jay-926 at: http://localhost:5000/#/experiments/102175048111124688/runs/8a17aa391f3b4f829192a3522690bfd3\n",
      "🧪 View experiment at: http://localhost:5000/#/experiments/102175048111124688\n",
      "Training is finished\n",
      "{'accuracy_training': 0.92, 'recall_training': 0.99, 'f1_score_training': 0.93, 'precision_training': 0.88}\n",
      "{'avg_precision_test': np.float64(1.0), 'avg_recall_test': np.float64(0.86), 'avg_f1_score_test': np.float64(0.92)}\n",
      "metrics and parameters have been logged\n",
      "The best model has been saved!\n",
      "🏃 View run nebulous-owl-300 at: http://localhost:5000/#/experiments/102175048111124688/runs/4182410d10e446629cbf63b27219f3ce\n",
      "🧪 View experiment at: http://localhost:5000/#/experiments/102175048111124688\n",
      "Training is finished\n",
      "{'accuracy_training': 0.92, 'recall_training': 0.99, 'f1_score_training': 0.93, 'precision_training': 0.88}\n",
      "{'avg_precision_test': np.float64(1.0), 'avg_recall_test': np.float64(0.86), 'avg_f1_score_test': np.float64(0.92)}\n",
      "metrics and parameters have been logged\n",
      "The best model has been saved!\n",
      "🏃 View run funny-bee-273 at: http://localhost:5000/#/experiments/102175048111124688/runs/a31e0f508ccc44faa7b3006640ef5886\n",
      "🧪 View experiment at: http://localhost:5000/#/experiments/102175048111124688\n"
     ]
    },
    {
     "name": "stderr",
     "output_type": "stream",
     "text": [
      "/home/codespace/anaconda3/envs/fraud/lib/python3.10/site-packages/sklearn/linear_model/_glm/_newton_solver.py:576: LinAlgWarning: The inner solver of NewtonCholeskySolver stumbled upon a singular or very ill-conditioned Hessian matrix at iteration 1. It will now resort to lbfgs instead.\n",
      "Further options are to use another solver or to avoid such situation in the first place. Possible remedies are removing collinear features of X or increasing the penalization strengths.\n",
      "The original Linear Algebra message was:\n",
      "Ill-conditioned matrix (rcond=9.60059e-19): result may not be accurate.\n",
      "  warnings.warn(\n",
      "/home/codespace/anaconda3/envs/fraud/lib/python3.10/site-packages/sklearn/linear_model/_glm/_newton_solver.py:195: ConvergenceWarning: lbfgs failed to converge (status=1):\n",
      "STOP: TOTAL NO. OF ITERATIONS REACHED LIMIT.\n",
      "\n",
      "Increase the number of iterations (max_iter) or scale the data as shown in:\n",
      "    https://scikit-learn.org/stable/modules/preprocessing.html\n",
      "  self.iteration += _check_optimize_result(\"lbfgs\", opt_res)\n"
     ]
    },
    {
     "name": "stdout",
     "output_type": "stream",
     "text": [
      "Training is finished\n",
      "{'accuracy_training': 0.9, 'recall_training': 0.92, 'f1_score_training': 0.9, 'precision_training': 0.89}\n",
      "{'avg_precision_test': np.float64(1.0), 'avg_recall_test': np.float64(0.88), 'avg_f1_score_test': np.float64(0.94)}\n",
      "metrics and parameters have been logged\n",
      "🏃 View run adventurous-rook-862 at: http://localhost:5000/#/experiments/102175048111124688/runs/da211cd7a34940d7ba1abeffadf30282\n",
      "🧪 View experiment at: http://localhost:5000/#/experiments/102175048111124688\n",
      "Training is finished\n",
      "{'accuracy_training': 0.92, 'recall_training': 0.99, 'f1_score_training': 0.93, 'precision_training': 0.88}\n",
      "{'avg_precision_test': np.float64(1.0), 'avg_recall_test': np.float64(0.86), 'avg_f1_score_test': np.float64(0.92)}\n",
      "metrics and parameters have been logged\n",
      "The best model has been saved!\n",
      "🏃 View run brawny-jay-169 at: http://localhost:5000/#/experiments/102175048111124688/runs/07e691f46f004a51bdcd5cf2c86aefc7\n",
      "🧪 View experiment at: http://localhost:5000/#/experiments/102175048111124688\n",
      "Training is finished\n",
      "{'accuracy_training': 0.92, 'recall_training': 0.99, 'f1_score_training': 0.93, 'precision_training': 0.88}\n",
      "{'avg_precision_test': np.float64(1.0), 'avg_recall_test': np.float64(0.86), 'avg_f1_score_test': np.float64(0.92)}\n",
      "metrics and parameters have been logged\n",
      "The best model has been saved!\n",
      "🏃 View run intrigued-chimp-496 at: http://localhost:5000/#/experiments/102175048111124688/runs/b0288af6bc124b839cf15954568f1f9d\n",
      "🧪 View experiment at: http://localhost:5000/#/experiments/102175048111124688\n"
     ]
    },
    {
     "name": "stderr",
     "output_type": "stream",
     "text": [
      "/home/codespace/anaconda3/envs/fraud/lib/python3.10/site-packages/sklearn/linear_model/_glm/_newton_solver.py:576: LinAlgWarning: The inner solver of NewtonCholeskySolver stumbled upon a singular or very ill-conditioned Hessian matrix at iteration 1. It will now resort to lbfgs instead.\n",
      "Further options are to use another solver or to avoid such situation in the first place. Possible remedies are removing collinear features of X or increasing the penalization strengths.\n",
      "The original Linear Algebra message was:\n",
      "Ill-conditioned matrix (rcond=8.53386e-19): result may not be accurate.\n",
      "  warnings.warn(\n",
      "/home/codespace/anaconda3/envs/fraud/lib/python3.10/site-packages/sklearn/linear_model/_glm/_newton_solver.py:195: ConvergenceWarning: lbfgs failed to converge (status=1):\n",
      "STOP: TOTAL NO. OF ITERATIONS REACHED LIMIT.\n",
      "\n",
      "Increase the number of iterations (max_iter) or scale the data as shown in:\n",
      "    https://scikit-learn.org/stable/modules/preprocessing.html\n",
      "  self.iteration += _check_optimize_result(\"lbfgs\", opt_res)\n"
     ]
    },
    {
     "name": "stdout",
     "output_type": "stream",
     "text": [
      "Training is finished\n",
      "{'accuracy_training': 0.9, 'recall_training': 0.92, 'f1_score_training': 0.9, 'precision_training': 0.89}\n",
      "{'avg_precision_test': np.float64(1.0), 'avg_recall_test': np.float64(0.88), 'avg_f1_score_test': np.float64(0.94)}\n",
      "metrics and parameters have been logged\n",
      "🏃 View run dapper-whale-488 at: http://localhost:5000/#/experiments/102175048111124688/runs/f64cfb006af04ebcb8f618832e8c5fba\n",
      "🧪 View experiment at: http://localhost:5000/#/experiments/102175048111124688\n"
     ]
    }
   ],
   "source": [
    "for c in C:\n",
    "    for solver in solvers:\n",
    "        with mlflow.start_run():\n",
    "            #log dataset \n",
    "            mlflow.log_input(dataset, context=\"training\")\n",
    "            try:\n",
    "                model = make_pipeline(\n",
    "                        OneHotEncoder(use_cat_names=True),\n",
    "                        LogisticRegression(\n",
    "                            random_state=42,\n",
    "                            solver=solver,\n",
    "                            n_jobs=2,\n",
    "                            C=c\n",
    "                        ))\n",
    "                \n",
    "                model.fit(X_samp, y_samp)\n",
    "                print(\"Training is finished\")\n",
    "                y_pred = model.predict(X_samp)\n",
    "                f1 = round(f1_score(y_pred=y_pred, y_true=y_samp), 2)\n",
    "                acc = round(accuracy_score(y_pred=y_pred, y_true=y_samp), 2)\n",
    "                recall = round(recall_score(y_pred=y_pred, y_true=y_samp),2)\n",
    "                precision = round(precision_score(y_pred=y_pred, y_true=y_samp),2)\n",
    "                training_metrics = {\n",
    "                    \"accuracy_training\": acc,\n",
    "                    \"recall_training\": recall,\n",
    "                    \"f1_score_training\": f1,\n",
    "                    \"precision_training\": precision\n",
    "                }\n",
    "                print(training_metrics)\n",
    "                \n",
    "                y_pred_test = model.predict(X_test)\n",
    "                class_report = classification_report_imbalanced(\n",
    "                    y_pred=y_pred_test, \n",
    "                    y_true=y_test,\n",
    "                    target_names=target_names, \n",
    "                    output_dict=True)\n",
    "\n",
    "                test_metrics = {\n",
    "                    \"avg_precision_test\": round(class_report[\"avg_pre\"], 2),\n",
    "                    \"avg_recall_test\": round(class_report[\"avg_rec\"], 2),\n",
    "                    \"avg_f1_score_test\": round(class_report[\"avg_f1\"], 2)\n",
    "                }\n",
    "                print(test_metrics)\n",
    "                mlflow.log_metrics(test_metrics)\n",
    "                mlflow.log_metrics(training_metrics)\n",
    "                mlflow.log_params(\n",
    "                    {\"C\":c,\"solver\":solver})\n",
    "                print(\"metrics and parameters have been logged\")\n",
    "\n",
    "                if f1 >= best_f1:\n",
    "                    best_f1 = f1\n",
    "                        # Log model\n",
    "                    mlflow.sklearn.log_model(model, name=\"model\", input_example=X_samp)\n",
    "                    print(\"The best model has been saved!\")\n",
    "            except Exception as e :\n",
    "                print(e)\n",
    "                continue"
   ]
  },
  {
   "cell_type": "code",
   "execution_count": null,
   "id": "d67a875c-51f3-4541-94a5-1e13f5bd7680",
   "metadata": {},
   "outputs": [],
   "source": []
  },
  {
   "cell_type": "markdown",
   "id": "65394c4b",
   "metadata": {},
   "source": [
    "#### Model registry\n",
    "\n",
    "best hyper : \n",
    "* c = 1 \n",
    "* solver : sag\n",
    "* model_id : m-dd9c830c43774d399b430923a66f30b0\n",
    "* run_id : ddb4092ccf764a70a48be2ed60e231fb"
   ]
  },
  {
   "cell_type": "code",
   "execution_count": null,
   "id": "3040df41-7cad-4a86-9d9d-f389d7877d40",
   "metadata": {},
   "outputs": [],
   "source": []
  },
  {
   "cell_type": "code",
   "execution_count": null,
   "id": "122e8b49-a45e-4837-a77f-e98c9a9e621c",
   "metadata": {},
   "outputs": [],
   "source": []
  },
  {
   "cell_type": "code",
   "execution_count": 10,
   "id": "ef8721f0-ab53-4936-8999-90e1ca7beac3",
   "metadata": {},
   "outputs": [
    {
     "name": "stderr",
     "output_type": "stream",
     "text": [
      "Successfully registered model 'FraudDetectionModel'.\n",
      "2025/08/01 13:46:54 WARNING mlflow.tracking._model_registry.fluent: Run with id ddb4092ccf764a70a48be2ed60e231fb has no artifacts at artifact path 'model', registering model based on models:/m-dd9c830c43774d399b430923a66f30b0 instead\n",
      "2025/08/01 13:46:54 INFO mlflow.store.model_registry.abstract_store: Waiting up to 300 seconds for model version to finish creation. Model name: FraudDetectionModel, version 1\n"
     ]
    },
    {
     "name": "stdout",
     "output_type": "stream",
     "text": [
      "Model saved in the Registry model\n"
     ]
    },
    {
     "name": "stderr",
     "output_type": "stream",
     "text": [
      "Created version '1' of model 'FraudDetectionModel'.\n"
     ]
    }
   ],
   "source": [
    "run_id = \"ddb4092ccf764a70a48be2ed60e231fb\"\n",
    "model_uri = f\"runs:/{run_id}/model\"\n",
    "mlflow.register_model(model_uri, \"FraudDetectionModel\")\n",
    "\n",
    "print(\"Model saved in the Registry model\")"
   ]
  },
  {
   "cell_type": "code",
   "execution_count": null,
   "id": "3b44b4f2-968c-4f5f-a21a-ad7a6379966c",
   "metadata": {},
   "outputs": [],
   "source": [
    "data = pd.read_csv(\"data/PS_20174392719_1491204439457_log.csv\")\n",
    "data.head()"
   ]
  },
  {
   "cell_type": "code",
   "execution_count": null,
   "id": "5c57a52a-b433-4aed-9651-2c94e566f527",
   "metadata": {},
   "outputs": [],
   "source": []
  }
 ],
 "metadata": {
  "kernelspec": {
   "display_name": "Python (fraud)",
   "language": "python",
   "name": "fraud"
  },
  "language_info": {
   "codemirror_mode": {
    "name": "ipython",
    "version": 3
   },
   "file_extension": ".py",
   "mimetype": "text/x-python",
   "name": "python",
   "nbconvert_exporter": "python",
   "pygments_lexer": "ipython3",
   "version": "3.10.18"
  }
 },
 "nbformat": 4,
 "nbformat_minor": 5
}
